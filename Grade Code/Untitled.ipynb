{
 "cells": [
  {
   "cell_type": "markdown",
   "id": "334438fc",
   "metadata": {},
   "source": [
    "## importing "
   ]
  },
  {
   "cell_type": "code",
   "execution_count": 1,
   "id": "42401e56",
   "metadata": {},
   "outputs": [
    {
     "data": {
      "text/plain": [
       "0        3\n",
       "1        2\n",
       "2        3\n",
       "3        2\n",
       "4        1\n",
       "        ..\n",
       "12449    3\n",
       "12450    1\n",
       "12451    1\n",
       "12452    3\n",
       "12453    3\n",
       "Name: Label, Length: 12454, dtype: int64"
      ]
     },
     "execution_count": 1,
     "metadata": {},
     "output_type": "execute_result"
    }
   ],
   "source": [
    "import pandas as pd\n",
    "df = pd.read_csv('feat_eng_arahar.csv')\n",
    "df = df.drop(columns=['Unnamed: 0'])\n",
    "X=df.iloc[:,:6]\n",
    "Y=df.iloc[:,6]\n",
    "import evalml\n",
    "X_train , X_test , Y_train , Y_test = evalml.preprocessing.split_data(X, Y , problem_type='regression')\n",
    "Y"
   ]
  },
  {
   "cell_type": "markdown",
   "id": "6efccd27",
   "metadata": {},
   "source": [
    "## Correlation"
   ]
  },
  {
   "cell_type": "code",
   "execution_count": 2,
   "id": "5e07d702",
   "metadata": {},
   "outputs": [
    {
     "name": "stdout",
     "output_type": "stream",
     "text": [
      "Pearsons correlation for eccentricity: 0.917\n",
      "Pearsons correlation for mean eccentricity: 0.950\n",
      "Pearsons correlation for MinbyMaj: -0.952\n",
      "Pearsons correlation for minby_mean: -0.967\n",
      "Pearsons correlation for area: -0.782\n",
      "Pearsons correlation for area_mean: -0.833\n"
     ]
    }
   ],
   "source": [
    "from scipy.stats import pearsonr\n",
    "list2 = df[\"Label\"]\n",
    "list1 = df[\"Eccentricity\"]\n",
    "corr, _ = pearsonr(list1, list2)\n",
    "print('Pearsons correlation for eccentricity: %.3f' % corr)\n",
    "list1 = df[\"eccen_mean\"]\n",
    "corr, _ = pearsonr(list1, list2)\n",
    "print('Pearsons correlation for mean eccentricity: %.3f' % corr)\n",
    "list1 = df[\"MinbyMaj\"]\n",
    "corr, _ = pearsonr(list1, list2)\n",
    "print('Pearsons correlation for MinbyMaj: %.3f' % corr)\n",
    "list1 = df[\"minby_mean\"]\n",
    "corr, _ = pearsonr(list1, list2)\n",
    "print('Pearsons correlation for minby_mean: %.3f' % corr)\n",
    "list1 = df[\"area\"]\n",
    "corr, _ = pearsonr(list1, list2)\n",
    "print('Pearsons correlation for area: %.3f' % corr)\n",
    "list1 = df[\"area_mean\"]\n",
    "corr, _ = pearsonr(list1, list2)\n",
    "print('Pearsons correlation for area_mean: %.3f' % corr)"
   ]
  },
  {
   "cell_type": "code",
   "execution_count": 3,
   "id": "0173051b",
   "metadata": {},
   "outputs": [
    {
     "data": {
      "text/html": [
       "<div>\n",
       "<style scoped>\n",
       "    .dataframe tbody tr th:only-of-type {\n",
       "        vertical-align: middle;\n",
       "    }\n",
       "\n",
       "    .dataframe tbody tr th {\n",
       "        vertical-align: top;\n",
       "    }\n",
       "\n",
       "    .dataframe thead th {\n",
       "        text-align: right;\n",
       "    }\n",
       "</style>\n",
       "<table border=\"1\" class=\"dataframe\">\n",
       "  <thead>\n",
       "    <tr style=\"text-align: right;\">\n",
       "      <th></th>\n",
       "      <th>Eccentricity</th>\n",
       "      <th>eccen_mean</th>\n",
       "      <th>MinbyMaj</th>\n",
       "      <th>minby_mean</th>\n",
       "      <th>area</th>\n",
       "      <th>area_mean</th>\n",
       "    </tr>\n",
       "  </thead>\n",
       "  <tbody>\n",
       "    <tr>\n",
       "      <th>1233</th>\n",
       "      <td>0.96</td>\n",
       "      <td>0.96</td>\n",
       "      <td>0.29</td>\n",
       "      <td>0.27</td>\n",
       "      <td>7.700</td>\n",
       "      <td>6.63</td>\n",
       "    </tr>\n",
       "    <tr>\n",
       "      <th>7028</th>\n",
       "      <td>0.76</td>\n",
       "      <td>0.78</td>\n",
       "      <td>0.65</td>\n",
       "      <td>0.61</td>\n",
       "      <td>15.950</td>\n",
       "      <td>16.05</td>\n",
       "    </tr>\n",
       "    <tr>\n",
       "      <th>4890</th>\n",
       "      <td>0.95</td>\n",
       "      <td>0.95</td>\n",
       "      <td>0.31</td>\n",
       "      <td>0.30</td>\n",
       "      <td>6.470</td>\n",
       "      <td>8.02</td>\n",
       "    </tr>\n",
       "    <tr>\n",
       "      <th>4818</th>\n",
       "      <td>0.89</td>\n",
       "      <td>0.90</td>\n",
       "      <td>0.46</td>\n",
       "      <td>0.43</td>\n",
       "      <td>10.405</td>\n",
       "      <td>9.38</td>\n",
       "    </tr>\n",
       "    <tr>\n",
       "      <th>5762</th>\n",
       "      <td>0.62</td>\n",
       "      <td>0.52</td>\n",
       "      <td>0.78</td>\n",
       "      <td>0.84</td>\n",
       "      <td>12.840</td>\n",
       "      <td>15.25</td>\n",
       "    </tr>\n",
       "  </tbody>\n",
       "</table>\n",
       "</div>"
      ],
      "text/plain": [
       "      Eccentricity  eccen_mean  MinbyMaj  minby_mean    area  area_mean\n",
       "1233          0.96        0.96      0.29        0.27   7.700       6.63\n",
       "7028          0.76        0.78      0.65        0.61  15.950      16.05\n",
       "4890          0.95        0.95      0.31        0.30   6.470       8.02\n",
       "4818          0.89        0.90      0.46        0.43  10.405       9.38\n",
       "5762          0.62        0.52      0.78        0.84  12.840      15.25"
      ]
     },
     "execution_count": 3,
     "metadata": {},
     "output_type": "execute_result"
    }
   ],
   "source": [
    "X_train.head()"
   ]
  },
  {
   "cell_type": "code",
   "execution_count": 4,
   "id": "05b5889f",
   "metadata": {},
   "outputs": [
    {
     "data": {
      "text/plain": [
       "1233    3\n",
       "7028    2\n",
       "4890    3\n",
       "4818    3\n",
       "5762    1\n",
       "Name: Label, dtype: int64"
      ]
     },
     "execution_count": 4,
     "metadata": {},
     "output_type": "execute_result"
    }
   ],
   "source": [
    "Y_train.head()"
   ]
  },
  {
   "cell_type": "markdown",
   "id": "6f4e853f",
   "metadata": {},
   "source": [
    "## model finding"
   ]
  },
  {
   "cell_type": "code",
   "execution_count": 5,
   "id": "1ab90e6b",
   "metadata": {},
   "outputs": [
    {
     "name": "stdout",
     "output_type": "stream",
     "text": [
      "Using default limit of max_batches=4.\n",
      "\n",
      "\n",
      "*****************************\n",
      "* Beginning pipeline search *\n",
      "*****************************\n",
      "\n",
      "Optimizing for R2. \n",
      "Greater score is better.\n",
      "\n",
      "Using SequentialEngine to train and score pipelines.\n",
      "Searching up to 4 batches for a total of None pipelines. \n",
      "Allowed model families: \n",
      "\n"
     ]
    },
    {
     "data": {
      "application/vnd.jupyter.widget-view+json": {
       "model_id": "1aecf9ee9c1342dc9c3807018b51cc04",
       "version_major": 2,
       "version_minor": 0
      },
      "text/plain": [
       "FigureWidget({\n",
       "    'data': [{'mode': 'lines+markers',\n",
       "              'name': 'Best Score',\n",
       "              'type'…"
      ]
     },
     "metadata": {},
     "output_type": "display_data"
    },
    {
     "name": "stdout",
     "output_type": "stream",
     "text": [
      "Evaluating Baseline Pipeline: Mean Baseline Regression Pipeline\n",
      "Mean Baseline Regression Pipeline:\n",
      "\tStarting cross validation\n",
      "\tFinished cross validation - mean R2: -0.000\n",
      "\n",
      "*****************************\n",
      "* Evaluating Batch Number 1 *\n",
      "*****************************\n",
      "\n",
      "Elastic Net Regressor w/ Imputer + Standard Scaler:\n",
      "\tStarting cross validation\n",
      "\tFinished cross validation - mean R2: 0.938\n",
      "Random Forest Regressor w/ Imputer:\n",
      "\tStarting cross validation\n",
      "\tFinished cross validation - mean R2: 0.999\n",
      "\n",
      "*****************************\n",
      "* Evaluating Batch Number 2 *\n",
      "*****************************\n",
      "\n",
      "Elastic Net Regressor w/ Imputer + Standard Scaler + RF Regressor Select From Model:\n",
      "\tStarting cross validation\n",
      "\tFinished cross validation - mean R2: 0.937\n",
      "Random Forest Regressor w/ Imputer + RF Regressor Select From Model:\n",
      "\tStarting cross validation\n",
      "\tFinished cross validation - mean R2: 0.999\n",
      "\n",
      "*****************************\n",
      "* Evaluating Batch Number 3 *\n",
      "*****************************\n",
      "\n",
      "Decision Tree Regressor w/ Imputer + Select Columns Transformer:\n",
      "\tStarting cross validation\n",
      "\tFinished cross validation - mean R2: 0.999\n",
      "Extra Trees Regressor w/ Imputer + Select Columns Transformer:\n",
      "\tStarting cross validation\n",
      "\tFinished cross validation - mean R2: 0.999\n",
      "XGBoost Regressor w/ Imputer + Select Columns Transformer:\n",
      "\tStarting cross validation\n",
      "\tFinished cross validation - mean R2: 0.999\n",
      "CatBoost Regressor w/ Imputer + Select Columns Transformer:\n",
      "\tStarting cross validation\n",
      "\tFinished cross validation - mean R2: 0.453\n",
      "LightGBM Regressor w/ Imputer + Select Columns Transformer:\n",
      "\tStarting cross validation\n",
      "\tFinished cross validation - mean R2: 0.984\n",
      "\n",
      "*****************************\n",
      "* Evaluating Batch Number 4 *\n",
      "*****************************\n",
      "\n"
     ]
    },
    {
     "name": "stderr",
     "output_type": "stream",
     "text": [
      "c:\\users\\rocks\\appdata\\local\\programs\\python\\python38\\lib\\site-packages\\sklearn\\linear_model\\_coordinate_descent.py:647: ConvergenceWarning:\n",
      "\n",
      "Objective did not converge. You might want to increase the number of iterations, check the scale of the features or consider increasing regularisation. Duality gap: 4.390e-01, tolerance: 4.336e-01\n",
      "\n",
      "c:\\users\\rocks\\appdata\\local\\programs\\python\\python38\\lib\\site-packages\\sklearn\\linear_model\\_coordinate_descent.py:647: ConvergenceWarning:\n",
      "\n",
      "Objective did not converge. You might want to increase the number of iterations, check the scale of the features or consider increasing regularisation. Duality gap: 5.021e-01, tolerance: 4.415e-01\n",
      "\n"
     ]
    },
    {
     "name": "stdout",
     "output_type": "stream",
     "text": [
      "Stacked Ensemble Regression Pipeline:\n",
      "\tStarting cross validation\n",
      "\tFinished cross validation - mean R2: 0.999\n",
      "\n",
      "Search finished after 00:13            \n",
      "Best pipeline: Random Forest Regressor w/ Imputer\n",
      "Best pipeline R2: 0.999225\n"
     ]
    },
    {
     "data": {
      "text/html": [
       "<div>\n",
       "<style scoped>\n",
       "    .dataframe tbody tr th:only-of-type {\n",
       "        vertical-align: middle;\n",
       "    }\n",
       "\n",
       "    .dataframe tbody tr th {\n",
       "        vertical-align: top;\n",
       "    }\n",
       "\n",
       "    .dataframe thead th {\n",
       "        text-align: right;\n",
       "    }\n",
       "</style>\n",
       "<table border=\"1\" class=\"dataframe\">\n",
       "  <thead>\n",
       "    <tr style=\"text-align: right;\">\n",
       "      <th></th>\n",
       "      <th>id</th>\n",
       "      <th>pipeline_name</th>\n",
       "      <th>search_order</th>\n",
       "      <th>mean_cv_score</th>\n",
       "      <th>standard_deviation_cv_score</th>\n",
       "      <th>validation_score</th>\n",
       "      <th>percent_better_than_baseline</th>\n",
       "      <th>high_variance_cv</th>\n",
       "      <th>parameters</th>\n",
       "    </tr>\n",
       "  </thead>\n",
       "  <tbody>\n",
       "    <tr>\n",
       "      <th>0</th>\n",
       "      <td>2</td>\n",
       "      <td>Random Forest Regressor w/ Imputer</td>\n",
       "      <td>2</td>\n",
       "      <td>0.999225</td>\n",
       "      <td>0.000349</td>\n",
       "      <td>0.999225</td>\n",
       "      <td>359305.180832</td>\n",
       "      <td>False</td>\n",
       "      <td>{'Imputer': {'categorical_impute_strategy': 'm...</td>\n",
       "    </tr>\n",
       "    <tr>\n",
       "      <th>1</th>\n",
       "      <td>10</td>\n",
       "      <td>Stacked Ensemble Regression Pipeline</td>\n",
       "      <td>10</td>\n",
       "      <td>0.999197</td>\n",
       "      <td>0.000382</td>\n",
       "      <td>0.999197</td>\n",
       "      <td>359295.140910</td>\n",
       "      <td>False</td>\n",
       "      <td>{'Linear Pipeline - Imputer': {'categorical_im...</td>\n",
       "    </tr>\n",
       "    <tr>\n",
       "      <th>2</th>\n",
       "      <td>6</td>\n",
       "      <td>Extra Trees Regressor w/ Imputer + Select Colu...</td>\n",
       "      <td>6</td>\n",
       "      <td>0.999183</td>\n",
       "      <td>0.000341</td>\n",
       "      <td>0.999183</td>\n",
       "      <td>359290.160376</td>\n",
       "      <td>False</td>\n",
       "      <td>{'Imputer': {'categorical_impute_strategy': 'm...</td>\n",
       "    </tr>\n",
       "    <tr>\n",
       "      <th>3</th>\n",
       "      <td>4</td>\n",
       "      <td>Random Forest Regressor w/ Imputer + RF Regres...</td>\n",
       "      <td>4</td>\n",
       "      <td>0.999116</td>\n",
       "      <td>0.000459</td>\n",
       "      <td>0.999116</td>\n",
       "      <td>359265.906936</td>\n",
       "      <td>False</td>\n",
       "      <td>{'Imputer': {'categorical_impute_strategy': 'm...</td>\n",
       "    </tr>\n",
       "    <tr>\n",
       "      <th>4</th>\n",
       "      <td>7</td>\n",
       "      <td>XGBoost Regressor w/ Imputer + Select Columns ...</td>\n",
       "      <td>7</td>\n",
       "      <td>0.999052</td>\n",
       "      <td>0.000680</td>\n",
       "      <td>0.999052</td>\n",
       "      <td>359242.969721</td>\n",
       "      <td>False</td>\n",
       "      <td>{'Imputer': {'categorical_impute_strategy': 'm...</td>\n",
       "    </tr>\n",
       "    <tr>\n",
       "      <th>5</th>\n",
       "      <td>5</td>\n",
       "      <td>Decision Tree Regressor w/ Imputer + Select Co...</td>\n",
       "      <td>5</td>\n",
       "      <td>0.998614</td>\n",
       "      <td>0.000975</td>\n",
       "      <td>0.998614</td>\n",
       "      <td>359085.475167</td>\n",
       "      <td>False</td>\n",
       "      <td>{'Imputer': {'categorical_impute_strategy': 'm...</td>\n",
       "    </tr>\n",
       "    <tr>\n",
       "      <th>6</th>\n",
       "      <td>9</td>\n",
       "      <td>LightGBM Regressor w/ Imputer + Select Columns...</td>\n",
       "      <td>9</td>\n",
       "      <td>0.984112</td>\n",
       "      <td>0.000408</td>\n",
       "      <td>0.984112</td>\n",
       "      <td>353872.151429</td>\n",
       "      <td>False</td>\n",
       "      <td>{'Imputer': {'categorical_impute_strategy': 'm...</td>\n",
       "    </tr>\n",
       "    <tr>\n",
       "      <th>7</th>\n",
       "      <td>1</td>\n",
       "      <td>Elastic Net Regressor w/ Imputer + Standard Sc...</td>\n",
       "      <td>1</td>\n",
       "      <td>0.938486</td>\n",
       "      <td>0.002069</td>\n",
       "      <td>0.938486</td>\n",
       "      <td>337470.618573</td>\n",
       "      <td>False</td>\n",
       "      <td>{'Imputer': {'categorical_impute_strategy': 'm...</td>\n",
       "    </tr>\n",
       "    <tr>\n",
       "      <th>8</th>\n",
       "      <td>3</td>\n",
       "      <td>Elastic Net Regressor w/ Imputer + Standard Sc...</td>\n",
       "      <td>3</td>\n",
       "      <td>0.937075</td>\n",
       "      <td>0.002047</td>\n",
       "      <td>0.937075</td>\n",
       "      <td>336963.102654</td>\n",
       "      <td>False</td>\n",
       "      <td>{'Imputer': {'categorical_impute_strategy': 'm...</td>\n",
       "    </tr>\n",
       "    <tr>\n",
       "      <th>9</th>\n",
       "      <td>8</td>\n",
       "      <td>CatBoost Regressor w/ Imputer + Select Columns...</td>\n",
       "      <td>8</td>\n",
       "      <td>0.453001</td>\n",
       "      <td>0.000730</td>\n",
       "      <td>0.453001</td>\n",
       "      <td>162946.531637</td>\n",
       "      <td>False</td>\n",
       "      <td>{'Imputer': {'categorical_impute_strategy': 'm...</td>\n",
       "    </tr>\n",
       "    <tr>\n",
       "      <th>10</th>\n",
       "      <td>0</td>\n",
       "      <td>Mean Baseline Regression Pipeline</td>\n",
       "      <td>0</td>\n",
       "      <td>-0.000278</td>\n",
       "      <td>0.000241</td>\n",
       "      <td>-0.000278</td>\n",
       "      <td>0.000000</td>\n",
       "      <td>False</td>\n",
       "      <td>{'Baseline Regressor': {'strategy': 'mean'}}</td>\n",
       "    </tr>\n",
       "  </tbody>\n",
       "</table>\n",
       "</div>"
      ],
      "text/plain": [
       "    id                                      pipeline_name  search_order  \\\n",
       "0    2                 Random Forest Regressor w/ Imputer             2   \n",
       "1   10               Stacked Ensemble Regression Pipeline            10   \n",
       "2    6  Extra Trees Regressor w/ Imputer + Select Colu...             6   \n",
       "3    4  Random Forest Regressor w/ Imputer + RF Regres...             4   \n",
       "4    7  XGBoost Regressor w/ Imputer + Select Columns ...             7   \n",
       "5    5  Decision Tree Regressor w/ Imputer + Select Co...             5   \n",
       "6    9  LightGBM Regressor w/ Imputer + Select Columns...             9   \n",
       "7    1  Elastic Net Regressor w/ Imputer + Standard Sc...             1   \n",
       "8    3  Elastic Net Regressor w/ Imputer + Standard Sc...             3   \n",
       "9    8  CatBoost Regressor w/ Imputer + Select Columns...             8   \n",
       "10   0                  Mean Baseline Regression Pipeline             0   \n",
       "\n",
       "    mean_cv_score  standard_deviation_cv_score  validation_score  \\\n",
       "0        0.999225                     0.000349          0.999225   \n",
       "1        0.999197                     0.000382          0.999197   \n",
       "2        0.999183                     0.000341          0.999183   \n",
       "3        0.999116                     0.000459          0.999116   \n",
       "4        0.999052                     0.000680          0.999052   \n",
       "5        0.998614                     0.000975          0.998614   \n",
       "6        0.984112                     0.000408          0.984112   \n",
       "7        0.938486                     0.002069          0.938486   \n",
       "8        0.937075                     0.002047          0.937075   \n",
       "9        0.453001                     0.000730          0.453001   \n",
       "10      -0.000278                     0.000241         -0.000278   \n",
       "\n",
       "    percent_better_than_baseline  high_variance_cv  \\\n",
       "0                  359305.180832             False   \n",
       "1                  359295.140910             False   \n",
       "2                  359290.160376             False   \n",
       "3                  359265.906936             False   \n",
       "4                  359242.969721             False   \n",
       "5                  359085.475167             False   \n",
       "6                  353872.151429             False   \n",
       "7                  337470.618573             False   \n",
       "8                  336963.102654             False   \n",
       "9                  162946.531637             False   \n",
       "10                      0.000000             False   \n",
       "\n",
       "                                           parameters  \n",
       "0   {'Imputer': {'categorical_impute_strategy': 'm...  \n",
       "1   {'Linear Pipeline - Imputer': {'categorical_im...  \n",
       "2   {'Imputer': {'categorical_impute_strategy': 'm...  \n",
       "3   {'Imputer': {'categorical_impute_strategy': 'm...  \n",
       "4   {'Imputer': {'categorical_impute_strategy': 'm...  \n",
       "5   {'Imputer': {'categorical_impute_strategy': 'm...  \n",
       "6   {'Imputer': {'categorical_impute_strategy': 'm...  \n",
       "7   {'Imputer': {'categorical_impute_strategy': 'm...  \n",
       "8   {'Imputer': {'categorical_impute_strategy': 'm...  \n",
       "9   {'Imputer': {'categorical_impute_strategy': 'm...  \n",
       "10       {'Baseline Regressor': {'strategy': 'mean'}}  "
      ]
     },
     "execution_count": 5,
     "metadata": {},
     "output_type": "execute_result"
    }
   ],
   "source": [
    "from evalml.automl import AutoMLSearch\n",
    "automl = AutoMLSearch(X_train=X_train , y_train=Y_train , problem_type = 'regression' , verbose=True)\n",
    "automl.search()\n",
    "automl.rankings"
   ]
  },
  {
   "cell_type": "markdown",
   "id": "6f9f4114",
   "metadata": {},
   "source": [
    "Set max_iter to a larger value. The default is 1000. This should be your last resort. If the optimization process does not converge within the first 1000 iterations, having it converge by setting a larger max_iter typically masks other problems such as those described in 1) and 2). It might even indicate that you have some in appropriate features or strong correlations in the features. Debug those first before taking this easy way out."
   ]
  },
  {
   "cell_type": "markdown",
   "id": "4f9e5372",
   "metadata": {},
   "source": [
    "## Evaluation of model "
   ]
  },
  {
   "cell_type": "code",
   "execution_count": 6,
   "id": "cab19c11",
   "metadata": {},
   "outputs": [
    {
     "name": "stdout",
     "output_type": "stream",
     "text": [
      "\n",
      "**************************************\n",
      "* Random Forest Regressor w/ Imputer *\n",
      "**************************************\n",
      "\n",
      "Problem Type: regression\n",
      "Model Family: Random Forest\n",
      "\n",
      "Pipeline Steps\n",
      "==============\n",
      "1. Imputer\n",
      "\t * categorical_impute_strategy : most_frequent\n",
      "\t * numeric_impute_strategy : mean\n",
      "\t * categorical_fill_value : None\n",
      "\t * numeric_fill_value : None\n",
      "2. Random Forest Regressor\n",
      "\t * n_estimators : 100\n",
      "\t * max_depth : 6\n",
      "\t * n_jobs : -1\n",
      "\n",
      "Training\n",
      "========\n",
      "Training for regression problems.\n",
      "Total training time (including CV): 0.7 seconds\n",
      "\n",
      "Cross Validation\n",
      "----------------\n",
      "               R2  ExpVariance  MaxError  MedianAE   MSE   MAE  Root Mean Squared Error # Training # Validation\n",
      "0           0.999        0.999     1.000     0.000 0.001 0.001                    0.027      6,642        3,321\n",
      "1           0.999        0.999     1.000     0.000 0.001 0.001                    0.024      6,642        3,321\n",
      "2           1.000        1.000     0.890     0.000 0.000 0.000                    0.016      6,642        3,321\n",
      "mean        0.999        0.999     0.963     0.000 0.001 0.001                    0.022          -            -\n",
      "std         0.000        0.000     0.064     0.000 0.000 0.000                    0.005          -            -\n",
      "coef of var 0.000        0.000     0.066       inf 0.450 0.354                    0.247          -            -\n"
     ]
    }
   ],
   "source": [
    "best_pipeline=automl.best_pipeline\n",
    "automl.describe_pipeline(automl.rankings.iloc[0][\"id\"])"
   ]
  },
  {
   "cell_type": "markdown",
   "id": "a7447586",
   "metadata": {},
   "source": [
    "## regression params "
   ]
  },
  {
   "cell_type": "code",
   "execution_count": 7,
   "id": "dbd34ca7",
   "metadata": {},
   "outputs": [
    {
     "data": {
      "text/plain": [
       "OrderedDict([('R2', 0.9990335950379989),\n",
       "             ('MAE', 0.0009651411748962935),\n",
       "             ('MSE', 0.0006383749553949778)])"
      ]
     },
     "execution_count": 7,
     "metadata": {},
     "output_type": "execute_result"
    }
   ],
   "source": [
    "best_pipeline.score(X_test, Y_test , objectives=[\"r2\",\"mae\",\"mse\"])\n",
    "# evalml.objectives.get_all_objective_names()"
   ]
  },
  {
   "cell_type": "markdown",
   "id": "f326767d",
   "metadata": {},
   "source": [
    "## model saving"
   ]
  },
  {
   "cell_type": "code",
   "execution_count": 8,
   "id": "845bd9ba",
   "metadata": {},
   "outputs": [],
   "source": [
    "best_pipeline.save('feat_eng_arahar.joblib')\n",
    "\n",
    "# import numpy as np\n",
    "# import joblib\n",
    "\n",
    "# model = joblib.load(\"feat_eng_channa.pkl\")\n",
    "# val = np.array([[0.76,0.74,0.47,0.58]])\n",
    "# df = pd.DataFrame(val, columns = ['Eccentricity','eccen_mean','MinbyMaj','minby_mean'])\n",
    "# df.iloc[[0]]\n",
    "# # x_pred = np.array(x_pred)\n",
    "# daalpredictions = model.predict(df.iloc[[0]])\n",
    "# # from joblib import dump, load\n",
    "# # dump(model, 'Model.joblib') \n",
    "# # import numpy as np\n",
    "# # best_pipeline.fit(X_train, Y_train)\n",
    "\n",
    "# # from sklearn.metrics import mean_squared_error\n",
    "# # daalpredictions = best_pipeline.predict()\n",
    "\n",
    "# # mse = mean_squared_error(np.ravel(Y_test), np.ravel(daalpredictions))\n",
    "# # rmse = np.sqrt(mse)\n",
    "# print(daalpredictions)\n",
    "# # by = np.ravel([0.93,0.92,0.37,0.38])\n",
    "# # vy = best_pipeline.predict(by)"
   ]
  },
  {
   "cell_type": "code",
   "execution_count": 46,
   "id": "5a6edc5b",
   "metadata": {},
   "outputs": [
    {
     "data": {
      "image/png": "[encoded data removed]",
      "text/plain": [
       "<Figure size 800x500 with 1 Axes>"
      ]
     },
     "metadata": {},
     "output_type": "display_data"
    }
   ],
   "source": [
    "import numpy as np\n",
    "import matplotlib.pyplot as plt\n",
    "\n",
    "\n",
    "\n",
    "plt.figure(figsize=(8, 5))\n",
    "\n",
    " \n",
    "accs = np.array([86.69, 90.7, 92.3, 95.88, 96.2, 96.4])\n",
    "mp = np.array([5, 8, 12, 16, 24, 64])\n",
    "plt.ylim(40, 100)\n",
    "plt.xticks([5, 8, 12, 16, 24, 32, 48, 64])\n",
    "plt.ylabel('Accuracy')\n",
    "plt.xlabel('Camera Quality (Megapixel)')\n",
    "\n",
    "plt.plot(mp, accs, marker = 's')\n",
    "\n",
    "accs = np.array([80.4, 86.56, 89.69, 91.5, 92.65, 93.5 ])\n",
    "mp = np.array([5, 8, 12, 16, 24, 64])\n",
    "plt.ylim(40, 100)\n",
    "plt.xticks([5, 8, 12, 16, 24, 32, 48, 64])\n",
    "plt.ylabel('Accuracy')\n",
    "plt.xlabel('Camera Quality (Megapixel)')\n",
    "\n",
    "plt.plot(mp, accs, marker = 's')\n",
    "plt.legend(['Grade Quality','Adulteration Level'], loc = 4)\n",
    "plt.savefig('phone comparison.pdf')"
   ]
  },
  {
   "cell_type": "code",
   "execution_count": 2,
   "id": "23866b0c",
   "metadata": {},
   "outputs": [
    {
     "data": {
      "image/png": "[encoded data removed]",
      "text/plain": [
       "<Figure size 800x500 with 1 Axes>"
      ]
     },
     "metadata": {},
     "output_type": "display_data"
    }
   ],
   "source": [
    "import matplotlib.pyplot as plt\n",
    "import numpy as np\n",
    "plt.figure(figsize=(8, 5))\n",
    "\n",
    " \n",
    "accs = np.array([35.6, 46.8, 83.6, 93.8, 94.9, 95.0, 95.8, 80.89, 55, 8])\n",
    "mp = np.array([25, 50, 100, 300, 500, 700, 1000, 3000, 6000, 9000])\n",
    "plt.ylim(0, 100)\n",
    "# plt.xticks([5, 8, 12, 16, 24, 32, 48, 64])\n",
    "# plt.xticks([50, 300, 500, 700, 1000, 1500])\n",
    "plt.ylabel('Accuracy')\n",
    "plt.xlabel('')\n",
    "\n",
    "plt.plot(mp, accs, marker = 's')\n",
    "plt.xlabel('Illumination (lux)')\n",
    "\n",
    "# accs = np.array([80.4, 86.56, 89.69, 91.5, 92.65, 93.5 ])\n",
    "# mp = np.array([5, 8, 12, 16, 24, 64])\n",
    "# plt.ylim(40, 100)\n",
    "# plt.xticks([5, 8, 12, 16, 24, 32, 48, 64])\n",
    "# plt.ylabel('Accuracy')\n",
    "# plt.xlabel('Camera Quality (Megapixel)')\n",
    "\n",
    "# plt.plot(mp, accs, marker = 's')\n",
    "# plt.legend(['Grade Quality','Adulteration Level'], loc = 4)\n",
    "plt.savefig('Light comparison.pdf')"
   ]
  },
  {
   "cell_type": "code",
   "execution_count": 26,
   "metadata": {},
   "outputs": [
    {
     "data": {
      "text/plain": [
       "array([35.6 , 46.8 , 83.6 , 93.8 , 94.9 , 95.  , 95.8 , 80.89, 55.  ,\n",
       "        8.  ])"
      ]
     },
     "execution_count": 26,
     "metadata": {},
     "output_type": "execute_result"
    }
   ],
   "source": [
    "accs"
   ]
  },
  {
   "cell_type": "code",
   "execution_count": 7,
   "id": "050f29ba",
   "metadata": {},
   "outputs": [],
   "source": [
    "import time\n",
    "import joblib\n",
    "import numpy as np"
   ]
  },
  {
   "cell_type": "code",
   "execution_count": 4,
   "id": "490b2d62",
   "metadata": {},
   "outputs": [
    {
     "name": "stderr",
     "output_type": "stream",
     "text": [
      "c:\\Users\\rocks\\anaconda3\\envs\\test\\lib\\site-packages\\sklearn\\base.py:329: UserWarning: Trying to unpickle estimator DecisionTreeRegressor from version 1.0.2 when using version 1.1.3. This might lead to breaking code or invalid results. Use at your own risk. For more info please refer to:\n",
      "https://scikit-learn.org/stable/model_persistence.html#security-maintainability-limitations\n",
      "  warnings.warn(\n",
      "c:\\Users\\rocks\\anaconda3\\envs\\test\\lib\\site-packages\\sklearn\\base.py:329: UserWarning: Trying to unpickle estimator RandomForestRegressor from version 1.0.2 when using version 1.1.3. This might lead to breaking code or invalid results. Use at your own risk. For more info please refer to:\n",
      "https://scikit-learn.org/stable/model_persistence.html#security-maintainability-limitations\n",
      "  warnings.warn(\n"
     ]
    }
   ],
   "source": [
    "model = joblib.load('Model.joblib')"
   ]
  },
  {
   "cell_type": "code",
   "execution_count": 8,
   "id": "59f64334",
   "metadata": {},
   "outputs": [
    {
     "name": "stderr",
     "output_type": "stream",
     "text": [
      "c:\\Users\\rocks\\anaconda3\\envs\\test\\lib\\site-packages\\sklearn\\base.py:450: UserWarning: X does not have valid feature names, but RandomForestRegressor was fitted with feature names\n",
      "  warnings.warn(\n"
     ]
    },
    {
     "ename": "ValueError",
     "evalue": "X has 256 features, but RandomForestRegressor is expecting 6 features as input.",
     "output_type": "error",
     "traceback": [
      "\u001b[1;31m---------------------------------------------------------------------------\u001b[0m",
      "\u001b[1;31mValueError\u001b[0m                                Traceback (most recent call last)",
      "\u001b[1;32md:\\CV- Food-MOBILEAPP\\CHANGE\\Untitled.ipynb Cell 21\u001b[0m in \u001b[0;36m<cell line: 2>\u001b[1;34m()\u001b[0m\n\u001b[0;32m      <a href='vscode-notebook-cell:/d%3A/CV-%20Food-MOBILEAPP/CHANGE/Untitled.ipynb#X26sZmlsZQ%3D%3D?line=0'>1</a>\u001b[0m X\u001b[39m=\u001b[39m np\u001b[39m.\u001b[39mzeros((\u001b[39m256\u001b[39m,\u001b[39m256\u001b[39m))\n\u001b[1;32m----> <a href='vscode-notebook-cell:/d%3A/CV-%20Food-MOBILEAPP/CHANGE/Untitled.ipynb#X26sZmlsZQ%3D%3D?line=1'>2</a>\u001b[0m model\u001b[39m.\u001b[39;49mpredict(X)\n",
      "File \u001b[1;32mc:\\Users\\rocks\\anaconda3\\envs\\test\\lib\\site-packages\\sklearn\\ensemble\\_forest.py:991\u001b[0m, in \u001b[0;36mForestRegressor.predict\u001b[1;34m(self, X)\u001b[0m\n\u001b[0;32m    989\u001b[0m check_is_fitted(\u001b[39mself\u001b[39m)\n\u001b[0;32m    990\u001b[0m \u001b[39m# Check data\u001b[39;00m\n\u001b[1;32m--> 991\u001b[0m X \u001b[39m=\u001b[39m \u001b[39mself\u001b[39;49m\u001b[39m.\u001b[39;49m_validate_X_predict(X)\n\u001b[0;32m    993\u001b[0m \u001b[39m# Assign chunk of trees to jobs\u001b[39;00m\n\u001b[0;32m    994\u001b[0m n_jobs, _, _ \u001b[39m=\u001b[39m _partition_estimators(\u001b[39mself\u001b[39m\u001b[39m.\u001b[39mn_estimators, \u001b[39mself\u001b[39m\u001b[39m.\u001b[39mn_jobs)\n",
      "File \u001b[1;32mc:\\Users\\rocks\\anaconda3\\envs\\test\\lib\\site-packages\\sklearn\\ensemble\\_forest.py:605\u001b[0m, in \u001b[0;36mBaseForest._validate_X_predict\u001b[1;34m(self, X)\u001b[0m\n\u001b[0;32m    602\u001b[0m \u001b[39m\"\"\"\u001b[39;00m\n\u001b[0;32m    603\u001b[0m \u001b[39mValidate X whenever one tries to predict, apply, predict_proba.\"\"\"\u001b[39;00m\n\u001b[0;32m    604\u001b[0m check_is_fitted(\u001b[39mself\u001b[39m)\n\u001b[1;32m--> 605\u001b[0m X \u001b[39m=\u001b[39m \u001b[39mself\u001b[39;49m\u001b[39m.\u001b[39;49m_validate_data(X, dtype\u001b[39m=\u001b[39;49mDTYPE, accept_sparse\u001b[39m=\u001b[39;49m\u001b[39m\"\u001b[39;49m\u001b[39mcsr\u001b[39;49m\u001b[39m\"\u001b[39;49m, reset\u001b[39m=\u001b[39;49m\u001b[39mFalse\u001b[39;49;00m)\n\u001b[0;32m    606\u001b[0m \u001b[39mif\u001b[39;00m issparse(X) \u001b[39mand\u001b[39;00m (X\u001b[39m.\u001b[39mindices\u001b[39m.\u001b[39mdtype \u001b[39m!=\u001b[39m np\u001b[39m.\u001b[39mintc \u001b[39mor\u001b[39;00m X\u001b[39m.\u001b[39mindptr\u001b[39m.\u001b[39mdtype \u001b[39m!=\u001b[39m np\u001b[39m.\u001b[39mintc):\n\u001b[0;32m    607\u001b[0m     \u001b[39mraise\u001b[39;00m \u001b[39mValueError\u001b[39;00m(\u001b[39m\"\u001b[39m\u001b[39mNo support for np.int64 index based sparse matrices\u001b[39m\u001b[39m\"\u001b[39m)\n",
      "File \u001b[1;32mc:\\Users\\rocks\\anaconda3\\envs\\test\\lib\\site-packages\\sklearn\\base.py:600\u001b[0m, in \u001b[0;36mBaseEstimator._validate_data\u001b[1;34m(self, X, y, reset, validate_separately, **check_params)\u001b[0m\n\u001b[0;32m    597\u001b[0m     out \u001b[39m=\u001b[39m X, y\n\u001b[0;32m    599\u001b[0m \u001b[39mif\u001b[39;00m \u001b[39mnot\u001b[39;00m no_val_X \u001b[39mand\u001b[39;00m check_params\u001b[39m.\u001b[39mget(\u001b[39m\"\u001b[39m\u001b[39mensure_2d\u001b[39m\u001b[39m\"\u001b[39m, \u001b[39mTrue\u001b[39;00m):\n\u001b[1;32m--> 600\u001b[0m     \u001b[39mself\u001b[39;49m\u001b[39m.\u001b[39;49m_check_n_features(X, reset\u001b[39m=\u001b[39;49mreset)\n\u001b[0;32m    602\u001b[0m \u001b[39mreturn\u001b[39;00m out\n",
      "File \u001b[1;32mc:\\Users\\rocks\\anaconda3\\envs\\test\\lib\\site-packages\\sklearn\\base.py:400\u001b[0m, in \u001b[0;36mBaseEstimator._check_n_features\u001b[1;34m(self, X, reset)\u001b[0m\n\u001b[0;32m    397\u001b[0m     \u001b[39mreturn\u001b[39;00m\n\u001b[0;32m    399\u001b[0m \u001b[39mif\u001b[39;00m n_features \u001b[39m!=\u001b[39m \u001b[39mself\u001b[39m\u001b[39m.\u001b[39mn_features_in_:\n\u001b[1;32m--> 400\u001b[0m     \u001b[39mraise\u001b[39;00m \u001b[39mValueError\u001b[39;00m(\n\u001b[0;32m    401\u001b[0m         \u001b[39mf\u001b[39m\u001b[39m\"\u001b[39m\u001b[39mX has \u001b[39m\u001b[39m{\u001b[39;00mn_features\u001b[39m}\u001b[39;00m\u001b[39m features, but \u001b[39m\u001b[39m{\u001b[39;00m\u001b[39mself\u001b[39m\u001b[39m.\u001b[39m\u001b[39m__class__\u001b[39m\u001b[39m.\u001b[39m\u001b[39m__name__\u001b[39m\u001b[39m}\u001b[39;00m\u001b[39m \u001b[39m\u001b[39m\"\u001b[39m\n\u001b[0;32m    402\u001b[0m         \u001b[39mf\u001b[39m\u001b[39m\"\u001b[39m\u001b[39mis expecting \u001b[39m\u001b[39m{\u001b[39;00m\u001b[39mself\u001b[39m\u001b[39m.\u001b[39mn_features_in_\u001b[39m}\u001b[39;00m\u001b[39m features as input.\u001b[39m\u001b[39m\"\u001b[39m\n\u001b[0;32m    403\u001b[0m     )\n",
      "\u001b[1;31mValueError\u001b[0m: X has 256 features, but RandomForestRegressor is expecting 6 features as input."
     ]
    }
   ],
   "source": [
    "X= np.zeros((256,256))\n",
    "model.predict(X)"
   ]
  },
  {
   "cell_type": "code",
   "execution_count": 13,
   "id": "e151c121",
   "metadata": {},
   "outputs": [
    {
     "name": "stdout",
     "output_type": "stream",
     "text": [
      "1.62166166305542\n"
     ]
    }
   ],
   "source": [
    "start = time.time()\n",
    "! python G1run.py   \n",
    "end= time.time()\n",
    "print(end-start)"
   ]
  },
  {
   "cell_type": "code",
   "execution_count": null,
   "id": "ef19e698",
   "metadata": {},
   "outputs": [],
   "source": []
  }
 ],
 "metadata": {
  "kernelspec": {
   "display_name": "Python 3 (ipykernel)",
   "language": "python",
   "name": "python3"
  },
  "language_info": {
   "codemirror_mode": {
    "name": "ipython",
    "version": 3
   },
   "file_extension": ".py",
   "mimetype": "text/x-python",
   "name": "python",
   "nbconvert_exporter": "python",
   "pygments_lexer": "ipython3",
   "version": "3.8.13"
  }
 },
 "nbformat": 4,
 "nbformat_minor": 5
}
